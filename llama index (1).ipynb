{
 "cells": [
  {
   "cell_type": "markdown",
   "id": "2ab0ebc2",
   "metadata": {},
   "source": [
    "# Installing llama-index Framework"
   ]
  },
  {
   "cell_type": "code",
   "execution_count": 1,
   "id": "8c76bcd3-8443-41bf-8d44-102ecf7db56b",
   "metadata": {},
   "outputs": [
    {
     "name": "stdout",
     "output_type": "stream",
     "text": [
      "Collecting llama-index\n",
      "  Obtaining dependency information for llama-index from https://files.pythonhosted.org/packages/60/47/0f9640650f6b65748557cb72956d18e9b3c7849ddd369ca19fbe25a299a5/llama_index-0.10.40-py3-none-any.whl.metadata\n",
      "  Downloading llama_index-0.10.40-py3-none-any.whl.metadata (11 kB)\n",
      "Collecting llama-index-agent-openai<0.3.0,>=0.1.4 (from llama-index)\n",
      "  Obtaining dependency information for llama-index-agent-openai<0.3.0,>=0.1.4 from https://files.pythonhosted.org/packages/bb/55/56641aadc604e1e7174467743fb185d730e9eb8ac222f7fbf6df14f38994/llama_index_agent_openai-0.2.5-py3-none-any.whl.metadata\n",
      "  Downloading llama_index_agent_openai-0.2.5-py3-none-any.whl.metadata (678 bytes)\n",
      "Collecting llama-index-cli<0.2.0,>=0.1.2 (from llama-index)\n",
      "  Obtaining dependency information for llama-index-cli<0.2.0,>=0.1.2 from https://files.pythonhosted.org/packages/8c/1b/554b8da1c7b62a7660a3ab0adfdc13a6046cad45a2490c3640728164f058/llama_index_cli-0.1.12-py3-none-any.whl.metadata\n",
      "  Downloading llama_index_cli-0.1.12-py3-none-any.whl.metadata (1.5 kB)\n",
      "Collecting llama-index-core<0.11.0,>=0.10.40 (from llama-index)\n",
      "  Obtaining dependency information for llama-index-core<0.11.0,>=0.10.40 from https://files.pythonhosted.org/packages/b3/42/55fb9163cb2d7ce3ad8b48af279e6d06d9526301935f7ca6767062e262c8/llama_index_core-0.10.40-py3-none-any.whl.metadata\n",
      "  Downloading llama_index_core-0.10.40-py3-none-any.whl.metadata (2.4 kB)\n",
      "Collecting llama-index-embeddings-openai<0.2.0,>=0.1.5 (from llama-index)\n",
      "  Obtaining dependency information for llama-index-embeddings-openai<0.2.0,>=0.1.5 from https://files.pythonhosted.org/packages/f2/9b/e551e94edf3bdae8ca3a456ee9f1a87ae5e903535ddfb87b28eda4c27456/llama_index_embeddings_openai-0.1.10-py3-none-any.whl.metadata\n",
      "  Downloading llama_index_embeddings_openai-0.1.10-py3-none-any.whl.metadata (604 bytes)\n",
      "Collecting llama-index-indices-managed-llama-cloud<0.2.0,>=0.1.2 (from llama-index)\n",
      "  Obtaining dependency information for llama-index-indices-managed-llama-cloud<0.2.0,>=0.1.2 from https://files.pythonhosted.org/packages/ef/7a/07f3be0a5a535382ca528b9f6b62316b43680396156ae3f799aec3577ebb/llama_index_indices_managed_llama_cloud-0.1.6-py3-none-any.whl.metadata\n",
      "  Downloading llama_index_indices_managed_llama_cloud-0.1.6-py3-none-any.whl.metadata (3.8 kB)\n",
      "Collecting llama-index-legacy<0.10.0,>=0.9.48 (from llama-index)\n",
      "  Obtaining dependency information for llama-index-legacy<0.10.0,>=0.9.48 from https://files.pythonhosted.org/packages/02/0a/0da9d27b0c3b074c1be1151ff4a4558f077c93df463310adfb47d193dde2/llama_index_legacy-0.9.48-py3-none-any.whl.metadata\n",
      "  Downloading llama_index_legacy-0.9.48-py3-none-any.whl.metadata (8.5 kB)\n",
      "Collecting llama-index-llms-openai<0.2.0,>=0.1.13 (from llama-index)\n",
      "  Obtaining dependency information for llama-index-llms-openai<0.2.0,>=0.1.13 from https://files.pythonhosted.org/packages/3e/11/3968733e088b2930d800a714872c7cfca6db0828c5eefcc26900664fc8d7/llama_index_llms_openai-0.1.21-py3-none-any.whl.metadata\n",
      "  Downloading llama_index_llms_openai-0.1.21-py3-none-any.whl.metadata (559 bytes)\n",
      "Collecting llama-index-multi-modal-llms-openai<0.2.0,>=0.1.3 (from llama-index)\n",
      "  Obtaining dependency information for llama-index-multi-modal-llms-openai<0.2.0,>=0.1.3 from https://files.pythonhosted.org/packages/2e/cb/d69c14583adb42b72d472af8ffa13fe10b1e550c1f202cb39429e6b88d47/llama_index_multi_modal_llms_openai-0.1.6-py3-none-any.whl.metadata\n",
      "  Downloading llama_index_multi_modal_llms_openai-0.1.6-py3-none-any.whl.metadata (677 bytes)\n",
      "Collecting llama-index-program-openai<0.2.0,>=0.1.3 (from llama-index)\n",
      "  Obtaining dependency information for llama-index-program-openai<0.2.0,>=0.1.3 from https://files.pythonhosted.org/packages/69/12/d47f38e2f2c18398650db776ab7bec1a7e0ba83664ef04843f664da94126/llama_index_program_openai-0.1.6-py3-none-any.whl.metadata\n",
      "  Downloading llama_index_program_openai-0.1.6-py3-none-any.whl.metadata (715 bytes)\n",
      "Collecting llama-index-question-gen-openai<0.2.0,>=0.1.2 (from llama-index)\n",
      "  Obtaining dependency information for llama-index-question-gen-openai<0.2.0,>=0.1.2 from https://files.pythonhosted.org/packages/2d/22/39f3ac5702b0e8ffd4d5a383c7cb2da0eb60f63b95f739345e79b66bf977/llama_index_question_gen_openai-0.1.3-py3-none-any.whl.metadata\n",
      "  Downloading llama_index_question_gen_openai-0.1.3-py3-none-any.whl.metadata (785 bytes)\n",
      "Collecting llama-index-readers-file<0.2.0,>=0.1.4 (from llama-index)\n",
      "  Obtaining dependency information for llama-index-readers-file<0.2.0,>=0.1.4 from https://files.pythonhosted.org/packages/ff/e1/37bc2e995ca2c416f74a82b7fe9df5b8682af7c94e8792a4eb7ddf5d1ae8/llama_index_readers_file-0.1.23-py3-none-any.whl.metadata\n",
      "  Downloading llama_index_readers_file-0.1.23-py3-none-any.whl.metadata (5.4 kB)\n",
      "Collecting llama-index-readers-llama-parse<0.2.0,>=0.1.2 (from llama-index)\n",
      "  Obtaining dependency information for llama-index-readers-llama-parse<0.2.0,>=0.1.2 from https://files.pythonhosted.org/packages/79/af/e9aaf5e8869dd8a759b83ab8847cfb84642f3f583332a1786b49c691bbc6/llama_index_readers_llama_parse-0.1.4-py3-none-any.whl.metadata\n",
      "  Downloading llama_index_readers_llama_parse-0.1.4-py3-none-any.whl.metadata (3.5 kB)\n",
      "Requirement already satisfied: openai>=1.14.0 in c:\\users\\soumya ranjan das\\anaconda3\\lib\\site-packages (from llama-index-agent-openai<0.3.0,>=0.1.4->llama-index) (1.23.3)\n",
      "Collecting PyYAML>=6.0.1 (from llama-index-core<0.11.0,>=0.10.40->llama-index)\n",
      "  Obtaining dependency information for PyYAML>=6.0.1 from https://files.pythonhosted.org/packages/b3/34/65bb4b2d7908044963ebf614fe0fdb080773fc7030d7e39c8d3eddcd4257/PyYAML-6.0.1-cp311-cp311-win_amd64.whl.metadata\n",
      "  Downloading PyYAML-6.0.1-cp311-cp311-win_amd64.whl.metadata (2.1 kB)\n",
      "Collecting SQLAlchemy[asyncio]>=1.4.49 (from llama-index-core<0.11.0,>=0.10.40->llama-index)\n",
      "  Obtaining dependency information for SQLAlchemy[asyncio]>=1.4.49 from https://files.pythonhosted.org/packages/74/9a/eec023807ae78e83342567303916b34a348d9d40703e7cef5dfb1e3635b6/SQLAlchemy-2.0.30-cp311-cp311-win_amd64.whl.metadata\n",
      "  Downloading SQLAlchemy-2.0.30-cp311-cp311-win_amd64.whl.metadata (9.8 kB)\n",
      "Collecting aiohttp<4.0.0,>=3.8.6 (from llama-index-core<0.11.0,>=0.10.40->llama-index)\n",
      "  Obtaining dependency information for aiohttp<4.0.0,>=3.8.6 from https://files.pythonhosted.org/packages/a4/69/0d415c6d8450842652ce01b29f43416a0f30122b75899de01485623c7850/aiohttp-3.9.5-cp311-cp311-win_amd64.whl.metadata\n",
      "  Downloading aiohttp-3.9.5-cp311-cp311-win_amd64.whl.metadata (7.7 kB)\n",
      "Requirement already satisfied: dataclasses-json in c:\\users\\soumya ranjan das\\anaconda3\\lib\\site-packages (from llama-index-core<0.11.0,>=0.10.40->llama-index) (0.6.4)\n",
      "Collecting deprecated>=1.2.9.3 (from llama-index-core<0.11.0,>=0.10.40->llama-index)\n",
      "  Obtaining dependency information for deprecated>=1.2.9.3 from https://files.pythonhosted.org/packages/20/8d/778b7d51b981a96554f29136cd59ca7880bf58094338085bcf2a979a0e6a/Deprecated-1.2.14-py2.py3-none-any.whl.metadata\n",
      "  Downloading Deprecated-1.2.14-py2.py3-none-any.whl.metadata (5.4 kB)\n",
      "Collecting dirtyjson<2.0.0,>=1.0.8 (from llama-index-core<0.11.0,>=0.10.40->llama-index)\n",
      "  Obtaining dependency information for dirtyjson<2.0.0,>=1.0.8 from https://files.pythonhosted.org/packages/68/69/1bcf70f81de1b4a9f21b3a62ec0c83bdff991c88d6cc2267d02408457e88/dirtyjson-1.0.8-py3-none-any.whl.metadata\n",
      "  Downloading dirtyjson-1.0.8-py3-none-any.whl.metadata (11 kB)\n",
      "Collecting fsspec>=2023.5.0 (from llama-index-core<0.11.0,>=0.10.40->llama-index)\n",
      "  Obtaining dependency information for fsspec>=2023.5.0 from https://files.pythonhosted.org/packages/ba/a3/16e9fe32187e9c8bc7f9b7bcd9728529faa725231a0c96f2f98714ff2fc5/fsspec-2024.5.0-py3-none-any.whl.metadata\n",
      "  Downloading fsspec-2024.5.0-py3-none-any.whl.metadata (11 kB)\n",
      "Requirement already satisfied: httpx in c:\\users\\soumya ranjan das\\anaconda3\\lib\\site-packages (from llama-index-core<0.11.0,>=0.10.40->llama-index) (0.27.0)\n",
      "Collecting llamaindex-py-client<0.2.0,>=0.1.18 (from llama-index-core<0.11.0,>=0.10.40->llama-index)\n",
      "  Obtaining dependency information for llamaindex-py-client<0.2.0,>=0.1.18 from https://files.pythonhosted.org/packages/5e/9c/a1a3086f023a8957ebd527c98d9356b6dd9409edef827ffdeee484f47abf/llamaindex_py_client-0.1.19-py3-none-any.whl.metadata\n",
      "  Downloading llamaindex_py_client-0.1.19-py3-none-any.whl.metadata (760 bytes)\n",
      "Collecting nest-asyncio<2.0.0,>=1.5.8 (from llama-index-core<0.11.0,>=0.10.40->llama-index)\n",
      "  Obtaining dependency information for nest-asyncio<2.0.0,>=1.5.8 from https://files.pythonhosted.org/packages/a0/c4/c2971a3ba4c6103a3d10c4b0f24f461ddc027f0f09763220cf35ca1401b3/nest_asyncio-1.6.0-py3-none-any.whl.metadata\n",
      "  Downloading nest_asyncio-1.6.0-py3-none-any.whl.metadata (2.8 kB)\n",
      "Requirement already satisfied: networkx>=3.0 in c:\\users\\soumya ranjan das\\anaconda3\\lib\\site-packages (from llama-index-core<0.11.0,>=0.10.40->llama-index) (3.1)\n",
      "Requirement already satisfied: nltk<4.0.0,>=3.8.1 in c:\\users\\soumya ranjan das\\anaconda3\\lib\\site-packages (from llama-index-core<0.11.0,>=0.10.40->llama-index) (3.8.1)\n",
      "Requirement already satisfied: numpy in c:\\users\\soumya ranjan das\\anaconda3\\lib\\site-packages (from llama-index-core<0.11.0,>=0.10.40->llama-index) (1.24.3)\n",
      "Requirement already satisfied: pandas in c:\\users\\soumya ranjan das\\anaconda3\\lib\\site-packages (from llama-index-core<0.11.0,>=0.10.40->llama-index) (2.0.3)\n",
      "Requirement already satisfied: pillow>=9.0.0 in c:\\users\\soumya ranjan das\\anaconda3\\lib\\site-packages (from llama-index-core<0.11.0,>=0.10.40->llama-index) (9.4.0)\n",
      "Requirement already satisfied: requests>=2.31.0 in c:\\users\\soumya ranjan das\\anaconda3\\lib\\site-packages (from llama-index-core<0.11.0,>=0.10.40->llama-index) (2.31.0)\n",
      "Requirement already satisfied: tenacity<9.0.0,>=8.2.0 in c:\\users\\soumya ranjan das\\anaconda3\\lib\\site-packages (from llama-index-core<0.11.0,>=0.10.40->llama-index) (8.2.2)\n",
      "Requirement already satisfied: tiktoken>=0.3.3 in c:\\users\\soumya ranjan das\\anaconda3\\lib\\site-packages (from llama-index-core<0.11.0,>=0.10.40->llama-index) (0.7.0)\n",
      "Collecting tqdm<5.0.0,>=4.66.1 (from llama-index-core<0.11.0,>=0.10.40->llama-index)\n",
      "  Obtaining dependency information for tqdm<5.0.0,>=4.66.1 from https://files.pythonhosted.org/packages/18/eb/fdb7eb9e48b7b02554e1664afd3bd3f117f6b6d6c5881438a0b055554f9b/tqdm-4.66.4-py3-none-any.whl.metadata\n",
      "  Downloading tqdm-4.66.4-py3-none-any.whl.metadata (57 kB)\n",
      "     ---------------------------------------- 0.0/57.6 kB ? eta -:--:--\n",
      "     --------------------- ------------------ 30.7/57.6 kB 1.4 MB/s eta 0:00:01\n",
      "     -------------------------------------- 57.6/57.6 kB 763.1 kB/s eta 0:00:00\n",
      "Requirement already satisfied: typing-extensions>=4.5.0 in c:\\users\\soumya ranjan das\\anaconda3\\lib\\site-packages (from llama-index-core<0.11.0,>=0.10.40->llama-index) (4.7.1)\n",
      "Requirement already satisfied: typing-inspect>=0.8.0 in c:\\users\\soumya ranjan das\\anaconda3\\lib\\site-packages (from llama-index-core<0.11.0,>=0.10.40->llama-index) (0.9.0)\n",
      "Requirement already satisfied: wrapt in c:\\users\\soumya ranjan das\\anaconda3\\lib\\site-packages (from llama-index-core<0.11.0,>=0.10.40->llama-index) (1.14.1)\n",
      "Collecting beautifulsoup4<5.0.0,>=4.12.3 (from llama-index-readers-file<0.2.0,>=0.1.4->llama-index)\n",
      "  Obtaining dependency information for beautifulsoup4<5.0.0,>=4.12.3 from https://files.pythonhosted.org/packages/b1/fe/e8c672695b37eecc5cbf43e1d0638d88d66ba3a44c4d321c796f4e59167f/beautifulsoup4-4.12.3-py3-none-any.whl.metadata\n",
      "  Downloading beautifulsoup4-4.12.3-py3-none-any.whl.metadata (3.8 kB)\n",
      "Requirement already satisfied: pypdf<5.0.0,>=4.0.1 in c:\\users\\soumya ranjan das\\anaconda3\\lib\\site-packages (from llama-index-readers-file<0.2.0,>=0.1.4->llama-index) (4.2.0)\n",
      "Collecting striprtf<0.0.27,>=0.0.26 (from llama-index-readers-file<0.2.0,>=0.1.4->llama-index)\n",
      "  Obtaining dependency information for striprtf<0.0.27,>=0.0.26 from https://files.pythonhosted.org/packages/a3/cf/0fea4f4ba3fc2772ac2419278aa9f6964124d4302117d61bc055758e000c/striprtf-0.0.26-py3-none-any.whl.metadata\n",
      "  Downloading striprtf-0.0.26-py3-none-any.whl.metadata (2.1 kB)\n",
      "Collecting llama-parse<0.5.0,>=0.4.0 (from llama-index-readers-llama-parse<0.2.0,>=0.1.2->llama-index)\n",
      "  Obtaining dependency information for llama-parse<0.5.0,>=0.4.0 from https://files.pythonhosted.org/packages/65/a5/70818c66bdff6a05e3ba41ea978de85d711ee39272792299f413be416907/llama_parse-0.4.4-py3-none-any.whl.metadata\n",
      "  Downloading llama_parse-0.4.4-py3-none-any.whl.metadata (3.5 kB)\n",
      "Requirement already satisfied: aiosignal>=1.1.2 in c:\\users\\soumya ranjan das\\anaconda3\\lib\\site-packages (from aiohttp<4.0.0,>=3.8.6->llama-index-core<0.11.0,>=0.10.40->llama-index) (1.2.0)\n",
      "Requirement already satisfied: attrs>=17.3.0 in c:\\users\\soumya ranjan das\\anaconda3\\lib\\site-packages (from aiohttp<4.0.0,>=3.8.6->llama-index-core<0.11.0,>=0.10.40->llama-index) (22.1.0)\n",
      "Requirement already satisfied: frozenlist>=1.1.1 in c:\\users\\soumya ranjan das\\anaconda3\\lib\\site-packages (from aiohttp<4.0.0,>=3.8.6->llama-index-core<0.11.0,>=0.10.40->llama-index) (1.3.3)\n",
      "Requirement already satisfied: multidict<7.0,>=4.5 in c:\\users\\soumya ranjan das\\anaconda3\\lib\\site-packages (from aiohttp<4.0.0,>=3.8.6->llama-index-core<0.11.0,>=0.10.40->llama-index) (6.0.2)\n",
      "Requirement already satisfied: yarl<2.0,>=1.0 in c:\\users\\soumya ranjan das\\anaconda3\\lib\\site-packages (from aiohttp<4.0.0,>=3.8.6->llama-index-core<0.11.0,>=0.10.40->llama-index) (1.8.1)\n",
      "Requirement already satisfied: soupsieve>1.2 in c:\\users\\soumya ranjan das\\anaconda3\\lib\\site-packages (from beautifulsoup4<5.0.0,>=4.12.3->llama-index-readers-file<0.2.0,>=0.1.4->llama-index) (2.4)\n",
      "Requirement already satisfied: pydantic>=1.10 in c:\\users\\soumya ranjan das\\anaconda3\\lib\\site-packages (from llamaindex-py-client<0.2.0,>=0.1.18->llama-index-core<0.11.0,>=0.10.40->llama-index) (1.10.8)\n",
      "Requirement already satisfied: anyio in c:\\users\\soumya ranjan das\\anaconda3\\lib\\site-packages (from httpx->llama-index-core<0.11.0,>=0.10.40->llama-index) (3.5.0)\n",
      "Requirement already satisfied: certifi in c:\\users\\soumya ranjan das\\anaconda3\\lib\\site-packages (from httpx->llama-index-core<0.11.0,>=0.10.40->llama-index) (2023.7.22)\n",
      "Requirement already satisfied: httpcore==1.* in c:\\users\\soumya ranjan das\\anaconda3\\lib\\site-packages (from httpx->llama-index-core<0.11.0,>=0.10.40->llama-index) (1.0.5)\n",
      "Requirement already satisfied: idna in c:\\users\\soumya ranjan das\\anaconda3\\lib\\site-packages (from httpx->llama-index-core<0.11.0,>=0.10.40->llama-index) (3.4)\n",
      "Requirement already satisfied: sniffio in c:\\users\\soumya ranjan das\\anaconda3\\lib\\site-packages (from httpx->llama-index-core<0.11.0,>=0.10.40->llama-index) (1.2.0)\n",
      "Requirement already satisfied: h11<0.15,>=0.13 in c:\\users\\soumya ranjan das\\anaconda3\\lib\\site-packages (from httpcore==1.*->httpx->llama-index-core<0.11.0,>=0.10.40->llama-index) (0.14.0)\n",
      "Requirement already satisfied: click in c:\\users\\soumya ranjan das\\anaconda3\\lib\\site-packages (from nltk<4.0.0,>=3.8.1->llama-index-core<0.11.0,>=0.10.40->llama-index) (8.0.4)\n",
      "Requirement already satisfied: joblib in c:\\users\\soumya ranjan das\\anaconda3\\lib\\site-packages (from nltk<4.0.0,>=3.8.1->llama-index-core<0.11.0,>=0.10.40->llama-index) (1.2.0)\n",
      "Requirement already satisfied: regex>=2021.8.3 in c:\\users\\soumya ranjan das\\anaconda3\\lib\\site-packages (from nltk<4.0.0,>=3.8.1->llama-index-core<0.11.0,>=0.10.40->llama-index) (2022.7.9)\n",
      "Requirement already satisfied: distro<2,>=1.7.0 in c:\\users\\soumya ranjan das\\anaconda3\\lib\\site-packages (from openai>=1.14.0->llama-index-agent-openai<0.3.0,>=0.1.4->llama-index) (1.9.0)\n",
      "Requirement already satisfied: charset-normalizer<4,>=2 in c:\\users\\soumya ranjan das\\anaconda3\\lib\\site-packages (from requests>=2.31.0->llama-index-core<0.11.0,>=0.10.40->llama-index) (2.0.4)\n",
      "Requirement already satisfied: urllib3<3,>=1.21.1 in c:\\users\\soumya ranjan das\\anaconda3\\lib\\site-packages (from requests>=2.31.0->llama-index-core<0.11.0,>=0.10.40->llama-index) (1.26.16)\n",
      "Requirement already satisfied: greenlet!=0.4.17 in c:\\users\\soumya ranjan das\\anaconda3\\lib\\site-packages (from SQLAlchemy[asyncio]>=1.4.49->llama-index-core<0.11.0,>=0.10.40->llama-index) (2.0.1)\n",
      "Requirement already satisfied: colorama in c:\\users\\soumya ranjan das\\anaconda3\\lib\\site-packages (from tqdm<5.0.0,>=4.66.1->llama-index-core<0.11.0,>=0.10.40->llama-index) (0.4.6)\n",
      "Requirement already satisfied: mypy-extensions>=0.3.0 in c:\\users\\soumya ranjan das\\anaconda3\\lib\\site-packages (from typing-inspect>=0.8.0->llama-index-core<0.11.0,>=0.10.40->llama-index) (1.0.0)\n",
      "Requirement already satisfied: marshmallow<4.0.0,>=3.18.0 in c:\\users\\soumya ranjan das\\anaconda3\\lib\\site-packages (from dataclasses-json->llama-index-core<0.11.0,>=0.10.40->llama-index) (3.21.1)\n",
      "Requirement already satisfied: python-dateutil>=2.8.2 in c:\\users\\soumya ranjan das\\anaconda3\\lib\\site-packages (from pandas->llama-index-core<0.11.0,>=0.10.40->llama-index) (2.8.2)\n",
      "Requirement already satisfied: pytz>=2020.1 in c:\\users\\soumya ranjan das\\anaconda3\\lib\\site-packages (from pandas->llama-index-core<0.11.0,>=0.10.40->llama-index) (2023.3.post1)\n",
      "Requirement already satisfied: tzdata>=2022.1 in c:\\users\\soumya ranjan das\\anaconda3\\lib\\site-packages (from pandas->llama-index-core<0.11.0,>=0.10.40->llama-index) (2023.3)\n",
      "Requirement already satisfied: packaging>=17.0 in c:\\users\\soumya ranjan das\\anaconda3\\lib\\site-packages (from marshmallow<4.0.0,>=3.18.0->dataclasses-json->llama-index-core<0.11.0,>=0.10.40->llama-index) (23.2)\n",
      "Requirement already satisfied: six>=1.5 in c:\\users\\soumya ranjan das\\anaconda3\\lib\\site-packages (from python-dateutil>=2.8.2->pandas->llama-index-core<0.11.0,>=0.10.40->llama-index) (1.16.0)\n",
      "Downloading llama_index-0.10.40-py3-none-any.whl (6.8 kB)\n",
      "Downloading llama_index_agent_openai-0.2.5-py3-none-any.whl (13 kB)\n",
      "Downloading llama_index_cli-0.1.12-py3-none-any.whl (26 kB)\n",
      "Downloading llama_index_core-0.10.40-py3-none-any.whl (15.4 MB)\n",
      "   ---------------------------------------- 0.0/15.4 MB ? eta -:--:--\n",
      "   ---------------------------------------- 0.1/15.4 MB 2.6 MB/s eta 0:00:06\n",
      "    --------------------------------------- 0.2/15.4 MB 2.1 MB/s eta 0:00:08\n",
      "    --------------------------------------- 0.3/15.4 MB 2.2 MB/s eta 0:00:07\n",
      "   - -------------------------------------- 0.5/15.4 MB 3.0 MB/s eta 0:00:05\n",
      "   -- ------------------------------------- 1.0/15.4 MB 4.6 MB/s eta 0:00:04\n",
      "   --- ------------------------------------ 1.5/15.4 MB 5.5 MB/s eta 0:00:03\n",
      "   ----- ---------------------------------- 2.0/15.4 MB 6.2 MB/s eta 0:00:03\n",
      "   ------- -------------------------------- 2.8/15.4 MB 7.4 MB/s eta 0:00:02\n",
      "   --------- ------------------------------ 3.5/15.4 MB 8.6 MB/s eta 0:00:02\n",
      "   ----------- ---------------------------- 4.4/15.4 MB 9.3 MB/s eta 0:00:02\n",
      "   ------------- -------------------------- 5.1/15.4 MB 10.1 MB/s eta 0:00:02\n",
      "   -------------- ------------------------- 5.6/15.4 MB 10.3 MB/s eta 0:00:01\n",
      "   --------------- ------------------------ 6.1/15.4 MB 10.2 MB/s eta 0:00:01\n",
      "   ----------------- ---------------------- 6.7/15.4 MB 10.4 MB/s eta 0:00:01\n",
      "   ------------------ --------------------- 7.2/15.4 MB 10.4 MB/s eta 0:00:01\n",
      "   -------------------- ------------------- 7.8/15.4 MB 10.6 MB/s eta 0:00:01\n",
      "   ---------------------- ----------------- 8.5/15.4 MB 10.9 MB/s eta 0:00:01\n",
      "   ------------------------ --------------- 9.3/15.4 MB 11.2 MB/s eta 0:00:01\n",
      "   ------------------------- -------------- 10.0/15.4 MB 11.4 MB/s eta 0:00:01\n",
      "   ---------------------------- ----------- 10.8/15.4 MB 13.9 MB/s eta 0:00:01\n",
      "   ----------------------------- ---------- 11.6/15.4 MB 14.6 MB/s eta 0:00:01\n",
      "   ------------------------------- -------- 12.2/15.4 MB 15.2 MB/s eta 0:00:01\n",
      "   ---------------------------------- ----- 13.2/15.4 MB 14.9 MB/s eta 0:00:01\n",
      "   ------------------------------------ --- 14.1/15.4 MB 15.2 MB/s eta 0:00:01\n",
      "   -------------------------------------- - 14.8/15.4 MB 14.9 MB/s eta 0:00:01\n",
      "   ---------------------------------------  15.4/15.4 MB 14.9 MB/s eta 0:00:01\n",
      "   ---------------------------------------- 15.4/15.4 MB 13.9 MB/s eta 0:00:00\n",
      "Downloading llama_index_embeddings_openai-0.1.10-py3-none-any.whl (6.2 kB)\n",
      "Downloading llama_index_indices_managed_llama_cloud-0.1.6-py3-none-any.whl (6.7 kB)\n",
      "Downloading llama_index_legacy-0.9.48-py3-none-any.whl (2.0 MB)\n",
      "   ---------------------------------------- 0.0/2.0 MB ? eta -:--:--\n",
      "   ---------------- ----------------------- 0.8/2.0 MB 25.8 MB/s eta 0:00:01\n",
      "   --------------------------------- ------ 1.6/2.0 MB 20.9 MB/s eta 0:00:01\n",
      "   ---------------------------------------- 2.0/2.0 MB 18.1 MB/s eta 0:00:00\n",
      "Downloading llama_index_llms_openai-0.1.21-py3-none-any.whl (11 kB)\n",
      "Downloading llama_index_multi_modal_llms_openai-0.1.6-py3-none-any.whl (5.8 kB)\n",
      "Downloading llama_index_program_openai-0.1.6-py3-none-any.whl (5.2 kB)\n",
      "Downloading llama_index_question_gen_openai-0.1.3-py3-none-any.whl (2.9 kB)\n",
      "Downloading llama_index_readers_file-0.1.23-py3-none-any.whl (36 kB)\n",
      "Downloading llama_index_readers_llama_parse-0.1.4-py3-none-any.whl (2.5 kB)\n",
      "Downloading aiohttp-3.9.5-cp311-cp311-win_amd64.whl (370 kB)\n",
      "   ---------------------------------------- 0.0/370.8 kB ? eta -:--:--\n",
      "   --------------------------------------- 370.8/370.8 kB 11.6 MB/s eta 0:00:00\n",
      "Downloading beautifulsoup4-4.12.3-py3-none-any.whl (147 kB)\n",
      "   ---------------------------------------- 0.0/147.9 kB ? eta -:--:--\n",
      "   ---------------------------------------- 147.9/147.9 kB 9.2 MB/s eta 0:00:00\n",
      "Downloading Deprecated-1.2.14-py2.py3-none-any.whl (9.6 kB)\n",
      "Downloading dirtyjson-1.0.8-py3-none-any.whl (25 kB)\n",
      "Downloading fsspec-2024.5.0-py3-none-any.whl (316 kB)\n",
      "   ---------------------------------------- 0.0/316.1 kB ? eta -:--:--\n",
      "   --------------------------------------- 316.1/316.1 kB 20.4 MB/s eta 0:00:00\n",
      "Downloading llama_parse-0.4.4-py3-none-any.whl (8.0 kB)\n",
      "Downloading llamaindex_py_client-0.1.19-py3-none-any.whl (141 kB)\n",
      "   ---------------------------------------- 0.0/141.9 kB ? eta -:--:--\n",
      "   ---------------------------------------- 141.9/141.9 kB ? eta 0:00:00\n",
      "Downloading nest_asyncio-1.6.0-py3-none-any.whl (5.2 kB)\n",
      "Downloading PyYAML-6.0.1-cp311-cp311-win_amd64.whl (144 kB)\n",
      "   ---------------------------------------- 0.0/144.7 kB ? eta -:--:--\n",
      "   ---------------------------------------- 144.7/144.7 kB 9.0 MB/s eta 0:00:00\n",
      "Downloading striprtf-0.0.26-py3-none-any.whl (6.9 kB)\n",
      "Downloading tqdm-4.66.4-py3-none-any.whl (78 kB)\n",
      "   ---------------------------------------- 0.0/78.3 kB ? eta -:--:--\n",
      "   ---------------------------------------- 78.3/78.3 kB ? eta 0:00:00\n",
      "Downloading SQLAlchemy-2.0.30-cp311-cp311-win_amd64.whl (2.1 MB)\n",
      "   ---------------------------------------- 0.0/2.1 MB ? eta -:--:--\n",
      "   ----------------- ---------------------- 0.9/2.1 MB 29.7 MB/s eta 0:00:01\n",
      "   ----------------------------------- ---- 1.9/2.1 MB 23.6 MB/s eta 0:00:01\n",
      "   ---------------------------------------- 2.1/2.1 MB 19.0 MB/s eta 0:00:00\n",
      "Installing collected packages: striprtf, dirtyjson, tqdm, SQLAlchemy, PyYAML, nest-asyncio, fsspec, deprecated, beautifulsoup4, aiohttp, llamaindex-py-client, llama-index-legacy, llama-index-core, llama-parse, llama-index-readers-file, llama-index-llms-openai, llama-index-indices-managed-llama-cloud, llama-index-embeddings-openai, llama-index-readers-llama-parse, llama-index-multi-modal-llms-openai, llama-index-cli, llama-index-agent-openai, llama-index-program-openai, llama-index-question-gen-openai, llama-index\n",
      "  Attempting uninstall: tqdm\n",
      "    Found existing installation: tqdm 4.65.0\n",
      "    Uninstalling tqdm-4.65.0:\n",
      "      Successfully uninstalled tqdm-4.65.0\n",
      "  Attempting uninstall: SQLAlchemy\n",
      "    Found existing installation: SQLAlchemy 1.4.39\n",
      "    Uninstalling SQLAlchemy-1.4.39:\n",
      "      Successfully uninstalled SQLAlchemy-1.4.39\n",
      "  Attempting uninstall: PyYAML\n",
      "    Found existing installation: PyYAML 6.0\n",
      "    Uninstalling PyYAML-6.0:\n",
      "      Successfully uninstalled PyYAML-6.0\n",
      "  Attempting uninstall: nest-asyncio\n",
      "    Found existing installation: nest-asyncio 1.5.6\n",
      "    Uninstalling nest-asyncio-1.5.6:\n",
      "      Successfully uninstalled nest-asyncio-1.5.6\n",
      "  Attempting uninstall: fsspec\n",
      "    Found existing installation: fsspec 2023.4.0\n",
      "    Uninstalling fsspec-2023.4.0:\n",
      "      Successfully uninstalled fsspec-2023.4.0\n",
      "  Attempting uninstall: beautifulsoup4\n",
      "    Found existing installation: beautifulsoup4 4.12.2\n",
      "    Uninstalling beautifulsoup4-4.12.2:\n",
      "      Successfully uninstalled beautifulsoup4-4.12.2\n",
      "  Attempting uninstall: aiohttp\n",
      "    Found existing installation: aiohttp 3.8.5\n",
      "    Uninstalling aiohttp-3.8.5:\n",
      "      Successfully uninstalled aiohttp-3.8.5\n",
      "Successfully installed PyYAML-6.0.1 SQLAlchemy-2.0.30 aiohttp-3.9.5 beautifulsoup4-4.12.3 deprecated-1.2.14 dirtyjson-1.0.8 fsspec-2024.5.0 llama-index-0.10.40 llama-index-agent-openai-0.2.5 llama-index-cli-0.1.12 llama-index-core-0.10.40 llama-index-embeddings-openai-0.1.10 llama-index-indices-managed-llama-cloud-0.1.6 llama-index-legacy-0.9.48 llama-index-llms-openai-0.1.21 llama-index-multi-modal-llms-openai-0.1.6 llama-index-program-openai-0.1.6 llama-index-question-gen-openai-0.1.3 llama-index-readers-file-0.1.23 llama-index-readers-llama-parse-0.1.4 llama-parse-0.4.4 llamaindex-py-client-0.1.19 nest-asyncio-1.6.0 striprtf-0.0.26 tqdm-4.66.4\n"
     ]
    },
    {
     "name": "stderr",
     "output_type": "stream",
     "text": [
      "ERROR: pip's dependency resolver does not currently take into account all the packages that are installed. This behaviour is the source of the following dependency conflicts.\n",
      "conda-repo-cli 1.0.75 requires requests_mock, which is not installed.\n",
      "conda-repo-cli 1.0.75 requires clyent==1.2.1, but you have clyent 1.2.2 which is incompatible.\n",
      "s3fs 2023.4.0 requires fsspec==2023.4.0, but you have fsspec 2024.5.0 which is incompatible.\n"
     ]
    }
   ],
   "source": [
    "!pip install llama-index"
   ]
  },
  {
   "cell_type": "code",
   "execution_count": 2,
   "id": "b3c94877-cffa-40dd-8a3e-fc6d0a7b634b",
   "metadata": {},
   "outputs": [],
   "source": [
    "import os\n",
    "os.environ[\"OPENAI_API_KEY\"]=\" \""
   ]
  },
  {
   "cell_type": "code",
   "execution_count": 3,
   "id": "2610e02d-943c-4ef5-8146-6bfc9f323ed5",
   "metadata": {},
   "outputs": [],
   "source": [
    "f_path=r\"C:\\Users\\SOUMYA RANJAN DAS\\Downloads\\_OceanofPDF.com_The_Science_of_Getting_Rich_-_Wallace_D_Wattles_Charles_Conrad.pdf\""
   ]
  },
  {
   "cell_type": "code",
   "execution_count": 4,
   "id": "6551b7c2-44c1-4ebd-bb5d-e6ef596c23f2",
   "metadata": {},
   "outputs": [],
   "source": [
    "from llama_index.core import SimpleDirectoryReader"
   ]
  },
  {
   "cell_type": "code",
   "execution_count": 5,
   "id": "37183dc2-9340-4061-bfd7-083b005fbc5f",
   "metadata": {},
   "outputs": [],
   "source": [
    "reader=SimpleDirectoryReader(input_files=[f_path])"
   ]
  },
  {
   "cell_type": "code",
   "execution_count": 6,
   "id": "520ee9d4-bad5-46eb-bd01-d0d2c03e4d02",
   "metadata": {},
   "outputs": [],
   "source": [
    "pdf_documents = reader.load_data()"
   ]
  },
  {
   "cell_type": "markdown",
   "id": "a0709f3e",
   "metadata": {},
   "source": [
    "# Creating Index"
   ]
  },
  {
   "cell_type": "code",
   "execution_count": 7,
   "id": "bbd61fd9-9bcb-431b-a959-c79cb00bdf55",
   "metadata": {},
   "outputs": [],
   "source": [
    "from llama_index.core  import VectorStoreIndex\n",
    "index = VectorStoreIndex.from_documents(pdf_documents)"
   ]
  },
  {
   "cell_type": "markdown",
   "id": "170455a8",
   "metadata": {},
   "source": [
    "# Running a Query"
   ]
  },
  {
   "cell_type": "code",
   "execution_count": 8,
   "id": "646a84a6-7ff1-4055-8853-d873c6692e13",
   "metadata": {},
   "outputs": [
    {
     "name": "stdout",
     "output_type": "stream",
     "text": [
      "Thought is described as the only power capable of transforming intangible riches into tangible ones from the Formless Substance. It is emphasized that the substance from which all things are created is a thinking substance, and a thought of form in this substance leads to the creation of that form. The text explains that Original Substance moves in accordance with its thoughts, and every visible form and process in nature is the result of a thought in Original Substance.\n"
     ]
    }
   ],
   "source": [
    "query_engine = index.as_query_engine()\n",
    "response = query_engine.query(\"what is Thought?\")\n",
    "print(response)"
   ]
  },
  {
   "cell_type": "code",
   "execution_count": 9,
   "id": "aa36d765-4725-4bf7-b77e-150026c8daf8",
   "metadata": {},
   "outputs": [
    {
     "name": "stdout",
     "output_type": "stream",
     "text": [
      "To use the will effectively, focus on applying it to yourself rather than trying to exert it on external factors or other individuals. Direct your will towards compelling yourself to think and act in alignment with your goals. Maintain a positive mindset, holding a clear mental image of what you desire, and use your will to keep your thoughts and actions on the right path. Avoid projecting your will outward or attempting to influence others. By staying steadfast in faith and purpose, you can make positive impressions on the universe, attracting the realization of your desires. Guard against doubt and unbelief, as they can counteract the positive effects of your willpower.\n"
     ]
    }
   ],
   "source": [
    "query_engine = index.as_query_engine()\n",
    "response = query_engine.query(\"How to use the will?\")\n",
    "print(response)"
   ]
  },
  {
   "cell_type": "code",
   "execution_count": null,
   "id": "dd093bfe-079e-407d-8eea-215246f14234",
   "metadata": {},
   "outputs": [],
   "source": []
  }
 ],
 "metadata": {
  "kernelspec": {
   "display_name": "Python 3 (ipykernel)",
   "language": "python",
   "name": "python3"
  },
  "language_info": {
   "codemirror_mode": {
    "name": "ipython",
    "version": 3
   },
   "file_extension": ".py",
   "mimetype": "text/x-python",
   "name": "python",
   "nbconvert_exporter": "python",
   "pygments_lexer": "ipython3",
   "version": "3.11.5"
  }
 },
 "nbformat": 4,
 "nbformat_minor": 5
}
